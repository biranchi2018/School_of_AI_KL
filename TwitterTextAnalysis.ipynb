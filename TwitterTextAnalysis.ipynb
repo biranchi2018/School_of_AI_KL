{
  "nbformat": 4,
  "nbformat_minor": 0,
  "metadata": {
    "colab": {
      "name": "TwitterTextAnalysis.ipynb",
      "provenance": [],
      "collapsed_sections": [],
      "include_colab_link": true
    },
    "kernelspec": {
      "name": "python3",
      "display_name": "Python 3"
    },
    "accelerator": "GPU"
  },
  "cells": [
    {
      "cell_type": "markdown",
      "metadata": {
        "id": "view-in-github",
        "colab_type": "text"
      },
      "source": [
        "<a href=\"https://colab.research.google.com/github/biranchi2018/School_of_AI_KL/blob/master/TwitterTextAnalysis.ipynb\" target=\"_parent\"><img src=\"https://colab.research.google.com/assets/colab-badge.svg\" alt=\"Open In Colab\"/></a>"
      ]
    },
    {
      "cell_type": "markdown",
      "metadata": {
        "id": "j6wIuY994k19",
        "colab_type": "text"
      },
      "source": [
        "## **Data Exploration**"
      ]
    },
    {
      "cell_type": "code",
      "metadata": {
        "id": "huuzf4SLmbI5",
        "colab_type": "code",
        "colab": {}
      },
      "source": [
        "import io\n"
      ],
      "execution_count": 0,
      "outputs": []
    },
    {
      "cell_type": "code",
      "metadata": {
        "id": "yO0QLfp6CK8n",
        "colab_type": "code",
        "colab": {}
      },
      "source": [
        "# from google.colab import files\n",
        "# uploaded = files.upload()"
      ],
      "execution_count": 0,
      "outputs": []
    },
    {
      "cell_type": "code",
      "metadata": {
        "id": "bP6OGLugndmM",
        "colab_type": "code",
        "colab": {}
      },
      "source": [
        "# !cat illicittwitter.csv"
      ],
      "execution_count": 0,
      "outputs": []
    },
    {
      "cell_type": "markdown",
      "metadata": {
        "id": "z4knVF7-tMUi",
        "colab_type": "text"
      },
      "source": [
        "## Read the data using Pandas"
      ]
    },
    {
      "cell_type": "code",
      "metadata": {
        "id": "SRw__LEkoGt_",
        "colab_type": "code",
        "colab": {}
      },
      "source": [
        "import pandas as pd"
      ],
      "execution_count": 0,
      "outputs": []
    },
    {
      "cell_type": "code",
      "metadata": {
        "id": "8y_oGhbwoI5i",
        "colab_type": "code",
        "outputId": "04573a2c-5896-4b50-c962-a388cfe67e36",
        "colab": {
          "base_uri": "https://localhost:8080/",
          "height": 204
        }
      },
      "source": [
        "df = pd.read_csv(\"illicittwitter.csv\")\n",
        "df.head()"
      ],
      "execution_count": 0,
      "outputs": [
        {
          "output_type": "execute_result",
          "data": {
            "text/html": [
              "<div>\n",
              "<style scoped>\n",
              "    .dataframe tbody tr th:only-of-type {\n",
              "        vertical-align: middle;\n",
              "    }\n",
              "\n",
              "    .dataframe tbody tr th {\n",
              "        vertical-align: top;\n",
              "    }\n",
              "\n",
              "    .dataframe thead th {\n",
              "        text-align: right;\n",
              "    }\n",
              "</style>\n",
              "<table border=\"1\" class=\"dataframe\">\n",
              "  <thead>\n",
              "    <tr style=\"text-align: right;\">\n",
              "      <th></th>\n",
              "      <th>Tweets</th>\n",
              "      <th>Label</th>\n",
              "    </tr>\n",
              "  </thead>\n",
              "  <tbody>\n",
              "    <tr>\n",
              "      <th>0</th>\n",
              "      <td>@215RegencyRoad: SARAH -  20 YEAR OLD WITH TH...</td>\n",
              "      <td>I</td>\n",
              "    </tr>\n",
              "    <tr>\n",
              "      <th>1</th>\n",
              "      <td>@215RegencyRoad: DOMINO  - NEW GIRL ON THE BL...</td>\n",
              "      <td>I</td>\n",
              "    </tr>\n",
              "    <tr>\n",
              "      <th>2</th>\n",
              "      <td>@215RegencyRoad: ASHLEY: 21 year old shy but ...</td>\n",
              "      <td>I</td>\n",
              "    </tr>\n",
              "    <tr>\n",
              "      <th>3</th>\n",
              "      <td>Hi Friends If you are looking Independent mode...</td>\n",
              "      <td>I</td>\n",
              "    </tr>\n",
              "    <tr>\n",
              "      <th>4</th>\n",
              "      <td>b\"Catch up with me @Jock2GO, I'm here for the ...</td>\n",
              "      <td>I</td>\n",
              "    </tr>\n",
              "  </tbody>\n",
              "</table>\n",
              "</div>"
            ],
            "text/plain": [
              "                                              Tweets Label\n",
              "0   @215RegencyRoad: SARAH -  20 YEAR OLD WITH TH...     I\n",
              "1   @215RegencyRoad: DOMINO  - NEW GIRL ON THE BL...     I\n",
              "2   @215RegencyRoad: ASHLEY: 21 year old shy but ...     I\n",
              "3  Hi Friends If you are looking Independent mode...     I\n",
              "4  b\"Catch up with me @Jock2GO, I'm here for the ...     I"
            ]
          },
          "metadata": {
            "tags": []
          },
          "execution_count": 10
        }
      ]
    },
    {
      "cell_type": "code",
      "metadata": {
        "id": "C6dWD0tdpDI1",
        "colab_type": "code",
        "outputId": "0c60f005-d2ad-48e0-89f0-816ae5ec7fda",
        "colab": {
          "base_uri": "https://localhost:8080/",
          "height": 1000
        }
      },
      "source": [
        "df.info"
      ],
      "execution_count": 0,
      "outputs": [
        {
          "output_type": "execute_result",
          "data": {
            "text/plain": [
              "<bound method DataFrame.info of                                                   Tweets Label\n",
              "0       @215RegencyRoad: SARAH -  20 YEAR OLD WITH TH...     I\n",
              "1       @215RegencyRoad: DOMINO  - NEW GIRL ON THE BL...     I\n",
              "2       @215RegencyRoad: ASHLEY: 21 year old shy but ...     I\n",
              "3      Hi Friends If you are looking Independent mode...     I\n",
              "4      b\"Catch up with me @Jock2GO, I'm here for the ...     I\n",
              "5      Hi Friends If you are looking Independent mode...     I\n",
              "6      Hi Friends If you are looking Independent mode...     I\n",
              "7      HOT GIRLS WHO KNOW HOW TO MAKE YOU SIZZLE....S...     I\n",
              "8      #Durham #Escort #BumPix #Adultwork - please ma...     I\n",
              "9      There are hot girls everywhere, but Ukraine is...     I\n",
              "10      @brendaboobies: #WednesdayMotivation #benaugh...     I\n",
              "11     x93xb7 Find Top Class GFE/BDSM Model Girl Swet...     I\n",
              "12     x93xb7 Beautiful Hot Big Ass Kissing Expert Gi...     I\n",
              "13     OWO Bareback Massage Escorts #erotic #eroticma...     I\n",
              "14     I am AVAILABLE NOW in #Brisbane for instant bo...     I\n",
              "15     #Nottingham #Escort #BumPix #Adultwork - https...     I\n",
              "16     #London #Escort #BumPix #Adultwork - Hello, fr...     I\n",
              "17     b\"I'm SatominYou can shake off the fatigue of ...     I\n",
              "18     Experience The Most Satisfying Erotic Massage ...     I\n",
              "19     x93xb7 Slim Girls/Married Girls book at Powai/...     I\n",
              "20      @rufinnasmith1: Rufinna +971543888430call onl...     I\n",
              "21      @rufinnasmith1: Rufinna +971543888430call onl...     I\n",
              "22      @rufinnasmith1: Rufinna +971543888430call onl...     I\n",
              "23      @rufinnasmith1: Rufinna +971543888430call onl...     I\n",
              "24      @rufinnasmith1: Rufinna +971543888430call onl...     I\n",
              "25      @rufinnasmith1: Rufinna +971543888430call onl...     I\n",
              "26      @rufinnasmith1: Rufinna +971543888430call onl...     I\n",
              "27      @rufinnasmith1: Rufinna +971543888430call onl...     I\n",
              "28     #escort Tour today https://t.co/rCAEDzVMCN Dou...     I\n",
              "29      @TravestiPelin24: musaitim #Aydxc4xb1ntravest...     I\n",
              "...                                                  ...   ...\n",
              "16208  b'Suomi Porno XXX full night fucking Dutch Por...     I\n",
              "16209   @davidfrawleyved: For those who think love ji...     N\n",
              "16210   @ceemartinez13: hate guys that only want you ...     N\n",
              "16211   @cnctnamedjose: sharing water after sex is so...     N\n",
              "16212   @victoria_brick1: yea sex is cool &amp; all b...     N\n",
              "16213   @JenBretty: I wanna travel the world, eat ama...     N\n",
              "16214   @triviagrande: Did you hear about the girl th...     N\n",
              "16215   @JrocJarvis: Sex is cool but can we paint and...     N\n",
              "16216  b'@PjoyStaMaria After sex pic* charot charot c...     I\n",
              "16217   @JrocJarvis: Sex is cool but can we paint and...     N\n",
              "16218  b\" @krassenstein: Dear religious people,nnI'm ...     N\n",
              "16219   @Devontaskipper_: That sex shit can wait , I ...     N\n",
              "16220  b'Come on guys!!! n. nlesbian vaginal fisting ...     I\n",
              "16221  b\"somebody's sex life isn't anybody's concern....     N\n",
              "16222   @Devontaskipper_: That sex shit can wait , I ...     N\n",
              "16223                       @katybabyyx: Is sex a drug?'     N\n",
              "16224   @AmyWoodburn1: can2x80x99t believe kim kardas...     N\n",
              "16225  b'XXX teacher videos XXX black porn Porno Gay ...     I\n",
              "16226  b'porno cartoons gratis fotos porno de putas d...     I\n",
              "16227   @Devontaskipper_: That sex shit can wait , I ...     N\n",
              "16228   @bartholomiumiu: Y2x80x99all created the mark...     N\n",
              "16229  b\" @ShannonBream: 11p @FoxNews - Two AZ artist...     N\n",
              "16230   @NoTimeZone_: Travel the world nHave filthy s...     N\n",
              "16231  b'My snapchat - xfoxygirlnnfucking machine you...     I\n",
              "16232   @itsnotyans: Kim K came out and said she was ...     I\n",
              "16233   @NoTimeZone_: Travel the world nHave filthy s...     N\n",
              "16234  b\"Let's have some fun. https://t.co/rOXMWHnxHy...     N\n",
              "16235   @NoTimeZone_: Travel the world nHave filthy s...     N\n",
              "16236   @christopheryuan: ... even though people woul...     N\n",
              "16237  b'orideo XXX free xxx XXX girlfriend sex video...     I\n",
              "\n",
              "[16238 rows x 2 columns]>"
            ]
          },
          "metadata": {
            "tags": []
          },
          "execution_count": 11
        }
      ]
    },
    {
      "cell_type": "code",
      "metadata": {
        "id": "mrDe_7CBpNiZ",
        "colab_type": "code",
        "outputId": "cc668a85-bba8-44b5-8b77-b51ea0da0d1a",
        "colab": {
          "base_uri": "https://localhost:8080/",
          "height": 136
        }
      },
      "source": [
        "df.info()"
      ],
      "execution_count": 0,
      "outputs": [
        {
          "output_type": "stream",
          "text": [
            "<class 'pandas.core.frame.DataFrame'>\n",
            "RangeIndex: 16238 entries, 0 to 16237\n",
            "Data columns (total 2 columns):\n",
            "Tweets    16238 non-null object\n",
            "Label     16238 non-null object\n",
            "dtypes: object(2)\n",
            "memory usage: 253.8+ KB\n"
          ],
          "name": "stdout"
        }
      ]
    },
    {
      "cell_type": "code",
      "metadata": {
        "id": "FapnO8_epJVU",
        "colab_type": "code",
        "outputId": "2d07d3d7-0c73-4554-f6b6-d1ae7f7e0225",
        "colab": {
          "base_uri": "https://localhost:8080/",
          "height": 173
        }
      },
      "source": [
        "df.describe()"
      ],
      "execution_count": 0,
      "outputs": [
        {
          "output_type": "execute_result",
          "data": {
            "text/html": [
              "<div>\n",
              "<style scoped>\n",
              "    .dataframe tbody tr th:only-of-type {\n",
              "        vertical-align: middle;\n",
              "    }\n",
              "\n",
              "    .dataframe tbody tr th {\n",
              "        vertical-align: top;\n",
              "    }\n",
              "\n",
              "    .dataframe thead th {\n",
              "        text-align: right;\n",
              "    }\n",
              "</style>\n",
              "<table border=\"1\" class=\"dataframe\">\n",
              "  <thead>\n",
              "    <tr style=\"text-align: right;\">\n",
              "      <th></th>\n",
              "      <th>Tweets</th>\n",
              "      <th>Label</th>\n",
              "    </tr>\n",
              "  </thead>\n",
              "  <tbody>\n",
              "    <tr>\n",
              "      <th>count</th>\n",
              "      <td>16238</td>\n",
              "      <td>16238</td>\n",
              "    </tr>\n",
              "    <tr>\n",
              "      <th>unique</th>\n",
              "      <td>8410</td>\n",
              "      <td>2</td>\n",
              "    </tr>\n",
              "    <tr>\n",
              "      <th>top</th>\n",
              "      <td>@NoTimeZone_: Travel the world nHave filthy s...</td>\n",
              "      <td>I</td>\n",
              "    </tr>\n",
              "    <tr>\n",
              "      <th>freq</th>\n",
              "      <td>241</td>\n",
              "      <td>10847</td>\n",
              "    </tr>\n",
              "  </tbody>\n",
              "</table>\n",
              "</div>"
            ],
            "text/plain": [
              "                                                   Tweets  Label\n",
              "count                                               16238  16238\n",
              "unique                                               8410      2\n",
              "top      @NoTimeZone_: Travel the world nHave filthy s...      I\n",
              "freq                                                  241  10847"
            ]
          },
          "metadata": {
            "tags": []
          },
          "execution_count": 13
        }
      ]
    },
    {
      "cell_type": "markdown",
      "metadata": {
        "id": "E1jDt-N0s6Ta",
        "colab_type": "text"
      },
      "source": [
        "## Converting Text Label to Numbers"
      ]
    },
    {
      "cell_type": "code",
      "metadata": {
        "id": "E8fUqluRqxfw",
        "colab_type": "code",
        "outputId": "2a0b551c-d5b8-4871-ed09-7a788622619f",
        "colab": {
          "base_uri": "https://localhost:8080/",
          "height": 204
        }
      },
      "source": [
        "from io import StringIO\n",
        "df.columns = [\"Tweets\", \"Label\"]\n",
        "df['Label'] = df['Label'].factorize()[0]\n",
        "category_id_df = df[[\"Tweets\", \"Label\"]].drop_duplicates().sort_values('Label')\n",
        "category_to_id = dict(category_id_df.values)\n",
        "id_to_category = dict(category_id_df[['Tweets', 'Label']].values)\n",
        "df.head()"
      ],
      "execution_count": 0,
      "outputs": [
        {
          "output_type": "execute_result",
          "data": {
            "text/html": [
              "<div>\n",
              "<style scoped>\n",
              "    .dataframe tbody tr th:only-of-type {\n",
              "        vertical-align: middle;\n",
              "    }\n",
              "\n",
              "    .dataframe tbody tr th {\n",
              "        vertical-align: top;\n",
              "    }\n",
              "\n",
              "    .dataframe thead th {\n",
              "        text-align: right;\n",
              "    }\n",
              "</style>\n",
              "<table border=\"1\" class=\"dataframe\">\n",
              "  <thead>\n",
              "    <tr style=\"text-align: right;\">\n",
              "      <th></th>\n",
              "      <th>Tweets</th>\n",
              "      <th>Label</th>\n",
              "    </tr>\n",
              "  </thead>\n",
              "  <tbody>\n",
              "    <tr>\n",
              "      <th>0</th>\n",
              "      <td>@215RegencyRoad: SARAH -  20 YEAR OLD WITH TH...</td>\n",
              "      <td>0</td>\n",
              "    </tr>\n",
              "    <tr>\n",
              "      <th>1</th>\n",
              "      <td>@215RegencyRoad: DOMINO  - NEW GIRL ON THE BL...</td>\n",
              "      <td>0</td>\n",
              "    </tr>\n",
              "    <tr>\n",
              "      <th>2</th>\n",
              "      <td>@215RegencyRoad: ASHLEY: 21 year old shy but ...</td>\n",
              "      <td>0</td>\n",
              "    </tr>\n",
              "    <tr>\n",
              "      <th>3</th>\n",
              "      <td>Hi Friends If you are looking Independent mode...</td>\n",
              "      <td>0</td>\n",
              "    </tr>\n",
              "    <tr>\n",
              "      <th>4</th>\n",
              "      <td>b\"Catch up with me @Jock2GO, I'm here for the ...</td>\n",
              "      <td>0</td>\n",
              "    </tr>\n",
              "  </tbody>\n",
              "</table>\n",
              "</div>"
            ],
            "text/plain": [
              "                                              Tweets  Label\n",
              "0   @215RegencyRoad: SARAH -  20 YEAR OLD WITH TH...      0\n",
              "1   @215RegencyRoad: DOMINO  - NEW GIRL ON THE BL...      0\n",
              "2   @215RegencyRoad: ASHLEY: 21 year old shy but ...      0\n",
              "3  Hi Friends If you are looking Independent mode...      0\n",
              "4  b\"Catch up with me @Jock2GO, I'm here for the ...      0"
            ]
          },
          "metadata": {
            "tags": []
          },
          "execution_count": 14
        }
      ]
    },
    {
      "cell_type": "code",
      "metadata": {
        "id": "VhdBWvgerd-Z",
        "colab_type": "code",
        "outputId": "4dd114a1-3b3c-4961-a68e-63aa40f09a82",
        "colab": {
          "base_uri": "https://localhost:8080/",
          "height": 204
        }
      },
      "source": [
        "df.tail()"
      ],
      "execution_count": 0,
      "outputs": [
        {
          "output_type": "execute_result",
          "data": {
            "text/html": [
              "<div>\n",
              "<style scoped>\n",
              "    .dataframe tbody tr th:only-of-type {\n",
              "        vertical-align: middle;\n",
              "    }\n",
              "\n",
              "    .dataframe tbody tr th {\n",
              "        vertical-align: top;\n",
              "    }\n",
              "\n",
              "    .dataframe thead th {\n",
              "        text-align: right;\n",
              "    }\n",
              "</style>\n",
              "<table border=\"1\" class=\"dataframe\">\n",
              "  <thead>\n",
              "    <tr style=\"text-align: right;\">\n",
              "      <th></th>\n",
              "      <th>Tweets</th>\n",
              "      <th>Label</th>\n",
              "    </tr>\n",
              "  </thead>\n",
              "  <tbody>\n",
              "    <tr>\n",
              "      <th>16233</th>\n",
              "      <td>@NoTimeZone_: Travel the world nHave filthy s...</td>\n",
              "      <td>1</td>\n",
              "    </tr>\n",
              "    <tr>\n",
              "      <th>16234</th>\n",
              "      <td>b\"Let's have some fun. https://t.co/rOXMWHnxHy...</td>\n",
              "      <td>1</td>\n",
              "    </tr>\n",
              "    <tr>\n",
              "      <th>16235</th>\n",
              "      <td>@NoTimeZone_: Travel the world nHave filthy s...</td>\n",
              "      <td>1</td>\n",
              "    </tr>\n",
              "    <tr>\n",
              "      <th>16236</th>\n",
              "      <td>@christopheryuan: ... even though people woul...</td>\n",
              "      <td>1</td>\n",
              "    </tr>\n",
              "    <tr>\n",
              "      <th>16237</th>\n",
              "      <td>b'orideo XXX free xxx XXX girlfriend sex video...</td>\n",
              "      <td>0</td>\n",
              "    </tr>\n",
              "  </tbody>\n",
              "</table>\n",
              "</div>"
            ],
            "text/plain": [
              "                                                  Tweets  Label\n",
              "16233   @NoTimeZone_: Travel the world nHave filthy s...      1\n",
              "16234  b\"Let's have some fun. https://t.co/rOXMWHnxHy...      1\n",
              "16235   @NoTimeZone_: Travel the world nHave filthy s...      1\n",
              "16236   @christopheryuan: ... even though people woul...      1\n",
              "16237  b'orideo XXX free xxx XXX girlfriend sex video...      0"
            ]
          },
          "metadata": {
            "tags": []
          },
          "execution_count": 15
        }
      ]
    },
    {
      "cell_type": "code",
      "metadata": {
        "id": "A4lgrLsJrgh2",
        "colab_type": "code",
        "outputId": "bde54bb1-d714-4748-d517-96106c0e194b",
        "colab": {
          "base_uri": "https://localhost:8080/",
          "height": 359
        }
      },
      "source": [
        "df.head(10)"
      ],
      "execution_count": 0,
      "outputs": [
        {
          "output_type": "execute_result",
          "data": {
            "text/html": [
              "<div>\n",
              "<style scoped>\n",
              "    .dataframe tbody tr th:only-of-type {\n",
              "        vertical-align: middle;\n",
              "    }\n",
              "\n",
              "    .dataframe tbody tr th {\n",
              "        vertical-align: top;\n",
              "    }\n",
              "\n",
              "    .dataframe thead th {\n",
              "        text-align: right;\n",
              "    }\n",
              "</style>\n",
              "<table border=\"1\" class=\"dataframe\">\n",
              "  <thead>\n",
              "    <tr style=\"text-align: right;\">\n",
              "      <th></th>\n",
              "      <th>Tweets</th>\n",
              "      <th>Label</th>\n",
              "    </tr>\n",
              "  </thead>\n",
              "  <tbody>\n",
              "    <tr>\n",
              "      <th>0</th>\n",
              "      <td>@215RegencyRoad: SARAH -  20 YEAR OLD WITH TH...</td>\n",
              "      <td>0</td>\n",
              "    </tr>\n",
              "    <tr>\n",
              "      <th>1</th>\n",
              "      <td>@215RegencyRoad: DOMINO  - NEW GIRL ON THE BL...</td>\n",
              "      <td>0</td>\n",
              "    </tr>\n",
              "    <tr>\n",
              "      <th>2</th>\n",
              "      <td>@215RegencyRoad: ASHLEY: 21 year old shy but ...</td>\n",
              "      <td>0</td>\n",
              "    </tr>\n",
              "    <tr>\n",
              "      <th>3</th>\n",
              "      <td>Hi Friends If you are looking Independent mode...</td>\n",
              "      <td>0</td>\n",
              "    </tr>\n",
              "    <tr>\n",
              "      <th>4</th>\n",
              "      <td>b\"Catch up with me @Jock2GO, I'm here for the ...</td>\n",
              "      <td>0</td>\n",
              "    </tr>\n",
              "    <tr>\n",
              "      <th>5</th>\n",
              "      <td>Hi Friends If you are looking Independent mode...</td>\n",
              "      <td>0</td>\n",
              "    </tr>\n",
              "    <tr>\n",
              "      <th>6</th>\n",
              "      <td>Hi Friends If you are looking Independent mode...</td>\n",
              "      <td>0</td>\n",
              "    </tr>\n",
              "    <tr>\n",
              "      <th>7</th>\n",
              "      <td>HOT GIRLS WHO KNOW HOW TO MAKE YOU SIZZLE....S...</td>\n",
              "      <td>0</td>\n",
              "    </tr>\n",
              "    <tr>\n",
              "      <th>8</th>\n",
              "      <td>#Durham #Escort #BumPix #Adultwork - please ma...</td>\n",
              "      <td>0</td>\n",
              "    </tr>\n",
              "    <tr>\n",
              "      <th>9</th>\n",
              "      <td>There are hot girls everywhere, but Ukraine is...</td>\n",
              "      <td>0</td>\n",
              "    </tr>\n",
              "  </tbody>\n",
              "</table>\n",
              "</div>"
            ],
            "text/plain": [
              "                                              Tweets  Label\n",
              "0   @215RegencyRoad: SARAH -  20 YEAR OLD WITH TH...      0\n",
              "1   @215RegencyRoad: DOMINO  - NEW GIRL ON THE BL...      0\n",
              "2   @215RegencyRoad: ASHLEY: 21 year old shy but ...      0\n",
              "3  Hi Friends If you are looking Independent mode...      0\n",
              "4  b\"Catch up with me @Jock2GO, I'm here for the ...      0\n",
              "5  Hi Friends If you are looking Independent mode...      0\n",
              "6  Hi Friends If you are looking Independent mode...      0\n",
              "7  HOT GIRLS WHO KNOW HOW TO MAKE YOU SIZZLE....S...      0\n",
              "8  #Durham #Escort #BumPix #Adultwork - please ma...      0\n",
              "9  There are hot girls everywhere, but Ukraine is...      0"
            ]
          },
          "metadata": {
            "tags": []
          },
          "execution_count": 16
        }
      ]
    },
    {
      "cell_type": "code",
      "metadata": {
        "id": "K2AVqdsMr7C9",
        "colab_type": "code",
        "outputId": "05360d9e-0c62-4fbe-9b48-a735c0f47a1a",
        "colab": {
          "base_uri": "https://localhost:8080/",
          "height": 204
        }
      },
      "source": [
        "category_id_df.head()"
      ],
      "execution_count": 0,
      "outputs": [
        {
          "output_type": "execute_result",
          "data": {
            "text/html": [
              "<div>\n",
              "<style scoped>\n",
              "    .dataframe tbody tr th:only-of-type {\n",
              "        vertical-align: middle;\n",
              "    }\n",
              "\n",
              "    .dataframe tbody tr th {\n",
              "        vertical-align: top;\n",
              "    }\n",
              "\n",
              "    .dataframe thead th {\n",
              "        text-align: right;\n",
              "    }\n",
              "</style>\n",
              "<table border=\"1\" class=\"dataframe\">\n",
              "  <thead>\n",
              "    <tr style=\"text-align: right;\">\n",
              "      <th></th>\n",
              "      <th>Tweets</th>\n",
              "      <th>Label</th>\n",
              "    </tr>\n",
              "  </thead>\n",
              "  <tbody>\n",
              "    <tr>\n",
              "      <th>0</th>\n",
              "      <td>@215RegencyRoad: SARAH -  20 YEAR OLD WITH TH...</td>\n",
              "      <td>0</td>\n",
              "    </tr>\n",
              "    <tr>\n",
              "      <th>10410</th>\n",
              "      <td>b'k hentai dana dearmond? XXX Sexy videos XXX ...</td>\n",
              "      <td>0</td>\n",
              "    </tr>\n",
              "    <tr>\n",
              "      <th>10409</th>\n",
              "      <td>b'XXX lesbian videos XXX hardcore vi? XXX Porn...</td>\n",
              "      <td>0</td>\n",
              "    </tr>\n",
              "    <tr>\n",
              "      <th>10407</th>\n",
              "      <td>b'Youporn Videos Manga Porno Tu Kiff XXX india...</td>\n",
              "      <td>0</td>\n",
              "    </tr>\n",
              "    <tr>\n",
              "      <th>10406</th>\n",
              "      <td>b'sloppy french porn cartoon sex videos cum sw...</td>\n",
              "      <td>0</td>\n",
              "    </tr>\n",
              "  </tbody>\n",
              "</table>\n",
              "</div>"
            ],
            "text/plain": [
              "                                                  Tweets  Label\n",
              "0       @215RegencyRoad: SARAH -  20 YEAR OLD WITH TH...      0\n",
              "10410  b'k hentai dana dearmond? XXX Sexy videos XXX ...      0\n",
              "10409  b'XXX lesbian videos XXX hardcore vi? XXX Porn...      0\n",
              "10407  b'Youporn Videos Manga Porno Tu Kiff XXX india...      0\n",
              "10406  b'sloppy french porn cartoon sex videos cum sw...      0"
            ]
          },
          "metadata": {
            "tags": []
          },
          "execution_count": 17
        }
      ]
    },
    {
      "cell_type": "code",
      "metadata": {
        "id": "-mHmwZRSr7In",
        "colab_type": "code",
        "outputId": "c57cd148-0f1e-40f1-9861-1a6512fb4163",
        "colab": {
          "base_uri": "https://localhost:8080/",
          "height": 207
        }
      },
      "source": [
        "list(id_to_category.items())[:5]"
      ],
      "execution_count": 0,
      "outputs": [
        {
          "output_type": "execute_result",
          "data": {
            "text/plain": [
              "[(\" @215RegencyRoad: SARAH -  20 YEAR OLD WITH THICK LIPS n#parlour #215girls #massage #escort https://t.co/sSxIVK7Rai'\",\n",
              "  0),\n",
              " (\"b'k hentai dana dearmond? XXX Sexy videos XXX videos TeenPorn Salopes Sex Black Ass Xxx video Bonne Baise XXX porno v2x80xa6 https://t.co/DTu1enXcan'\",\n",
              "  0),\n",
              " (\"b'XXX lesbian videos XXX hardcore vi? XXX Porno Amateur et Se XXX SEX XXX Atelier XXX girls clips XXX pussy XXX POR2x80xa6 https://t.co/nf4OxfXVdG'\",\n",
              "  0),\n",
              " (\"b'Youporn Videos Manga Porno Tu Kiff XXX indian boobs virtual sex anal cum? Step sister Sex Swedish Erotica XXX porno2x80xa6 https://t.co/WwzP4gAOLV'\",\n",
              "  0),\n",
              " (\"b'sloppy french porn cartoon sex videos cum swapping fuck com eurosex pants fake fuck hard bachelorette sloppy blowjo2x80xa6 https://t.co/NFFhvH9bs4'\",\n",
              "  0)]"
            ]
          },
          "metadata": {
            "tags": []
          },
          "execution_count": 18
        }
      ]
    },
    {
      "cell_type": "code",
      "metadata": {
        "id": "Kvh1esuFr7Ot",
        "colab_type": "code",
        "outputId": "c5ca15fc-7cb8-4fab-ede1-893dfbf72940",
        "colab": {
          "base_uri": "https://localhost:8080/",
          "height": 122
        }
      },
      "source": [
        "list(id_to_category.keys())[:5]"
      ],
      "execution_count": 0,
      "outputs": [
        {
          "output_type": "execute_result",
          "data": {
            "text/plain": [
              "[\" @215RegencyRoad: SARAH -  20 YEAR OLD WITH THICK LIPS n#parlour #215girls #massage #escort https://t.co/sSxIVK7Rai'\",\n",
              " \"b'k hentai dana dearmond? XXX Sexy videos XXX videos TeenPorn Salopes Sex Black Ass Xxx video Bonne Baise XXX porno v2x80xa6 https://t.co/DTu1enXcan'\",\n",
              " \"b'XXX lesbian videos XXX hardcore vi? XXX Porno Amateur et Se XXX SEX XXX Atelier XXX girls clips XXX pussy XXX POR2x80xa6 https://t.co/nf4OxfXVdG'\",\n",
              " \"b'Youporn Videos Manga Porno Tu Kiff XXX indian boobs virtual sex anal cum? Step sister Sex Swedish Erotica XXX porno2x80xa6 https://t.co/WwzP4gAOLV'\",\n",
              " \"b'sloppy french porn cartoon sex videos cum swapping fuck com eurosex pants fake fuck hard bachelorette sloppy blowjo2x80xa6 https://t.co/NFFhvH9bs4'\"]"
            ]
          },
          "metadata": {
            "tags": []
          },
          "execution_count": 19
        }
      ]
    },
    {
      "cell_type": "code",
      "metadata": {
        "id": "1DxSUIPDr7Se",
        "colab_type": "code",
        "colab": {}
      },
      "source": [
        ""
      ],
      "execution_count": 0,
      "outputs": []
    },
    {
      "cell_type": "markdown",
      "metadata": {
        "id": "JJJLK-sus1u5",
        "colab_type": "text"
      },
      "source": [
        "## Count the labels and graph using Matplotlib"
      ]
    },
    {
      "cell_type": "code",
      "metadata": {
        "id": "wlNdfUJJtbvx",
        "colab_type": "code",
        "outputId": "413ccbe7-5f6e-4970-8c78-08e08cbb8097",
        "colab": {
          "base_uri": "https://localhost:8080/",
          "height": 85
        }
      },
      "source": [
        "df.groupby('Label').Tweets.count()"
      ],
      "execution_count": 0,
      "outputs": [
        {
          "output_type": "execute_result",
          "data": {
            "text/plain": [
              "Label\n",
              "0    10847\n",
              "1     5391\n",
              "Name: Tweets, dtype: int64"
            ]
          },
          "metadata": {
            "tags": []
          },
          "execution_count": 20
        }
      ]
    },
    {
      "cell_type": "code",
      "metadata": {
        "id": "iUyjn2HNr7Mn",
        "colab_type": "code",
        "outputId": "27e3232c-4d26-422f-9a01-70cf1753eb63",
        "colab": {
          "base_uri": "https://localhost:8080/",
          "height": 388
        }
      },
      "source": [
        "import matplotlib.pyplot as plt\n",
        "fig = plt.figure(figsize=(8,6))\n",
        "df.groupby('Label').Tweets.count().plot.bar(ylim=0)\n",
        "plt.show()"
      ],
      "execution_count": 0,
      "outputs": [
        {
          "output_type": "display_data",
          "data": {
            "image/png": "[encoded data removed]",
            "text/plain": [
              "<Figure size 576x432 with 1 Axes>"
            ]
          },
          "metadata": {
            "tags": []
          }
        }
      ]
    },
    {
      "cell_type": "code",
      "metadata": {
        "id": "_Bu2WEYur7Gc",
        "colab_type": "code",
        "outputId": "db73eac6-1e6e-4368-fa91-83a465b46dad",
        "colab": {
          "base_uri": "https://localhost:8080/",
          "height": 34
        }
      },
      "source": [
        "\n",
        "from sklearn.feature_extraction.text import TfidfVectorizer\n",
        "\n",
        "tfidf = TfidfVectorizer(sublinear_tf=True, min_df=5, norm='l2', encoding='latin-1', ngram_range=(1, 2), stop_words='english')\n",
        "\n",
        "features = tfidf.fit_transform(df.Tweets).toarray()\n",
        "labels = df.Label\n",
        "features.shape"
      ],
      "execution_count": 0,
      "outputs": [
        {
          "output_type": "execute_result",
          "data": {
            "text/plain": [
              "(16238, 11532)"
            ]
          },
          "metadata": {
            "tags": []
          },
          "execution_count": 22
        }
      ]
    },
    {
      "cell_type": "markdown",
      "metadata": {
        "id": "s_3Hz13L4p37",
        "colab_type": "text"
      },
      "source": [
        "## **Multi-Class Classifier: Features and Design**"
      ]
    },
    {
      "cell_type": "code",
      "metadata": {
        "id": "T4faEElE4pg6",
        "colab_type": "code",
        "colab": {}
      },
      "source": [
        "from sklearn.model_selection import train_test_split\n",
        "from sklearn.feature_extraction.text import CountVectorizer\n",
        "from sklearn.feature_extraction.text import TfidfTransformer\n",
        "from sklearn.naive_bayes import MultinomialNB\n"
      ],
      "execution_count": 0,
      "outputs": []
    },
    {
      "cell_type": "markdown",
      "metadata": {
        "id": "F7cc028hFOF-",
        "colab_type": "text"
      },
      "source": [
        "\n",
        "\n",
        "```\n",
        "Build the model\n",
        "```\n",
        "\n"
      ]
    },
    {
      "cell_type": "code",
      "metadata": {
        "id": "HIbHrerHncFo",
        "colab_type": "code",
        "colab": {}
      },
      "source": [
        "X_train, X_test, y_train, y_test = train_test_split(df['Tweets'], df['Label'], random_state=0)\n",
        "count_vect = CountVectorizer()\n",
        "X_train_counts = count_vect.fit_transform(X_train)\n",
        "tfidf_transformer = TfidfTransformer()\n",
        "\n",
        "X_train_tfidf = tfidf_transformer.fit_transform(X_train_counts)\n",
        "clf = MultinomialNB().fit(X_train_tfidf, y_train)"
      ],
      "execution_count": 0,
      "outputs": []
    },
    {
      "cell_type": "code",
      "metadata": {
        "id": "HYwXntjyy9Pm",
        "colab_type": "code",
        "outputId": "6092e6c5-01ae-47c8-8041-67caeecada3c",
        "colab": {
          "base_uri": "https://localhost:8080/",
          "height": 34
        }
      },
      "source": [
        "clf"
      ],
      "execution_count": 0,
      "outputs": [
        {
          "output_type": "execute_result",
          "data": {
            "text/plain": [
              "MultinomialNB(alpha=1.0, class_prior=None, fit_prior=True)"
            ]
          },
          "metadata": {
            "tags": []
          },
          "execution_count": 25
        }
      ]
    },
    {
      "cell_type": "code",
      "metadata": {
        "id": "z604EjAvzrU8",
        "colab_type": "code",
        "outputId": "c5a9f0b3-e2c6-4e96-98f6-fd523d52cd6c",
        "colab": {
          "base_uri": "https://localhost:8080/",
          "height": 136
        }
      },
      "source": [
        "X_train_counts.toarray()"
      ],
      "execution_count": 0,
      "outputs": [
        {
          "output_type": "execute_result",
          "data": {
            "text/plain": [
              "array([[0, 0, 0, ..., 0, 0, 0],\n",
              "       [0, 0, 0, ..., 0, 0, 0],\n",
              "       [0, 0, 0, ..., 0, 0, 0],\n",
              "       ...,\n",
              "       [0, 0, 0, ..., 0, 0, 0],\n",
              "       [0, 0, 0, ..., 0, 0, 0],\n",
              "       [0, 0, 0, ..., 0, 0, 0]])"
            ]
          },
          "metadata": {
            "tags": []
          },
          "execution_count": 26
        }
      ]
    },
    {
      "cell_type": "code",
      "metadata": {
        "id": "Awqm82r2zA36",
        "colab_type": "code",
        "outputId": "079213f2-4c58-4a3e-ca4f-f6675b616d16",
        "colab": {
          "base_uri": "https://localhost:8080/",
          "height": 119
        }
      },
      "source": [
        "X_train[:5]"
      ],
      "execution_count": 0,
      "outputs": [
        {
          "output_type": "execute_result",
          "data": {
            "text/plain": [
              "7829      @Cliggaveli: \"just because I wanna have sex w...\n",
              "11370    b'@DatUdiBoy Sex before marriage is not seriou...\n",
              "7400     b'tures XXX British Sex PornStars Videos XXX L...\n",
              "5293     b'OWO Bareback Massage Escorts #erotic #erotic...\n",
              "2017     b\"Catch up with me @Jock2GO, I'm here for the ...\n",
              "Name: Tweets, dtype: object"
            ]
          },
          "metadata": {
            "tags": []
          },
          "execution_count": 27
        }
      ]
    },
    {
      "cell_type": "code",
      "metadata": {
        "id": "LK7ZmGqWzA95",
        "colab_type": "code",
        "outputId": "30110ad3-26d8-4d53-8a4e-ef90eab0d299",
        "colab": {
          "base_uri": "https://localhost:8080/",
          "height": 119
        }
      },
      "source": [
        "y_train[:5]"
      ],
      "execution_count": 0,
      "outputs": [
        {
          "output_type": "execute_result",
          "data": {
            "text/plain": [
              "7829     1\n",
              "11370    1\n",
              "7400     0\n",
              "5293     0\n",
              "2017     0\n",
              "Name: Label, dtype: int64"
            ]
          },
          "metadata": {
            "tags": []
          },
          "execution_count": 28
        }
      ]
    },
    {
      "cell_type": "code",
      "metadata": {
        "id": "KyRYGpQtzA7i",
        "colab_type": "code",
        "colab": {}
      },
      "source": [
        ""
      ],
      "execution_count": 0,
      "outputs": []
    },
    {
      "cell_type": "markdown",
      "metadata": {
        "id": "JOus2Gkq47f-",
        "colab_type": "text"
      },
      "source": [
        "\n",
        "### ***After fitting the training set, let’s make some predictions.***\n"
      ]
    },
    {
      "cell_type": "code",
      "metadata": {
        "id": "qg1eTPZAzT9o",
        "colab_type": "code",
        "outputId": "dbc18c7e-ab8c-4ab1-d91e-7de769c20737",
        "colab": {
          "base_uri": "https://localhost:8080/",
          "height": 119
        }
      },
      "source": [
        "X_test[:5]"
      ],
      "execution_count": 0,
      "outputs": [
        {
          "output_type": "execute_result",
          "data": {
            "text/plain": [
              "7492      @tooturnthaleyy: day 268 without sex : damn m...\n",
              "4235     b'#London #Escort #BumPix #Adultwork - OUT CAL...\n",
              "15749    b'@DeanMiller1978 @demadalcielo @NPR Nah, we k...\n",
              "5252     b'Satomi is beautiful eyes has three years exp...\n",
              "3980     b\"#Gloucester #Escort #BumPix #Adultwork - I c...\n",
              "Name: Tweets, dtype: object"
            ]
          },
          "metadata": {
            "tags": []
          },
          "execution_count": 29
        }
      ]
    },
    {
      "cell_type": "code",
      "metadata": {
        "id": "yYTM6MozzPXt",
        "colab_type": "code",
        "outputId": "fe263a34-c0cd-4ca1-c033-140ccdf1db7d",
        "colab": {
          "base_uri": "https://localhost:8080/",
          "height": 34
        }
      },
      "source": [
        "print(clf.predict(count_vect.transform([\"b I want sex chat something.... +65002342342. #massage #escort #Sex, #SexChat.....\"])))"
      ],
      "execution_count": 0,
      "outputs": [
        {
          "output_type": "stream",
          "text": [
            "[0]\n"
          ],
          "name": "stdout"
        }
      ]
    },
    {
      "cell_type": "code",
      "metadata": {
        "id": "oHxkoJsIzPea",
        "colab_type": "code",
        "outputId": "b38a7a60-afe2-4822-9107-c7ba78cabbbf",
        "colab": {
          "base_uri": "https://localhost:8080/",
          "height": 34
        }
      },
      "source": [
        "print(clf.predict(count_vect.transform([\"b'I want some sex more money .....\"])))"
      ],
      "execution_count": 0,
      "outputs": [
        {
          "output_type": "stream",
          "text": [
            "[1]\n"
          ],
          "name": "stdout"
        }
      ]
    },
    {
      "cell_type": "code",
      "metadata": {
        "id": "3BXv-ClAzPbf",
        "colab_type": "code",
        "colab": {}
      },
      "source": [
        ""
      ],
      "execution_count": 0,
      "outputs": []
    },
    {
      "cell_type": "markdown",
      "metadata": {
        "id": "-NkCGccq598H",
        "colab_type": "text"
      },
      "source": [
        "### ***Model Selection***"
      ]
    },
    {
      "cell_type": "markdown",
      "metadata": {
        "id": "T9m76_jN6LF1",
        "colab_type": "text"
      },
      "source": [
        "We are now ready to experiment with different machine learning models, evaluate their accuracy and find the source of any potential issues.\n",
        "\n",
        "We will benchmark the following four models:\n",
        "* Logistic Regression\n",
        "* (Multinomial) Naive Bayes\n",
        "* Linear Support Vector Machine\n",
        "* Random Forest"
      ]
    },
    {
      "cell_type": "code",
      "metadata": {
        "id": "rB72fWab59o3",
        "colab_type": "code",
        "outputId": "035979e0-a632-4cce-d508-82e5c7be9052",
        "colab": {
          "base_uri": "https://localhost:8080/",
          "height": 474
        }
      },
      "source": [
        "from sklearn.linear_model import LogisticRegression\n",
        "from sklearn.ensemble import RandomForestClassifier\n",
        "from sklearn.svm import LinearSVC\n",
        "from sklearn.model_selection import cross_val_score\n",
        "models = [\n",
        "    RandomForestClassifier(n_estimators=200, max_depth=3, random_state=0),\n",
        "    LinearSVC(),\n",
        "    MultinomialNB(),\n",
        "    LogisticRegression(random_state=0),\n",
        "]\n",
        "\n",
        "CV = 5\n",
        "cv_df = pd.DataFrame(index=range(CV * len(models)))\n",
        "entries = []\n",
        "\n",
        "for model in models:\n",
        "  model_name = model.__class__.__name__\n",
        "  accuracies = cross_val_score(model, features, labels, scoring='accuracy', cv=CV)\n",
        "  for fold_idx, accuracy in enumerate(accuracies):\n",
        "    entries.append((model_name, fold_idx, accuracy))\n",
        "cv_df = pd.DataFrame(entries, columns=['model_name', 'fold_idx', 'accuracy'])\n",
        "\n",
        "import seaborn as sns\n",
        "sns.boxplot(x='model_name', y='accuracy', data=cv_df)\n",
        "sns.stripplot(x='model_name', y='accuracy', data=cv_df, \n",
        "              size=8, jitter=True, edgecolor=\"gray\", linewidth=2)\n",
        "plt.show()"
      ],
      "execution_count": 0,
      "outputs": [
        {
          "output_type": "stream",
          "text": [
            "/usr/local/lib/python3.6/dist-packages/sklearn/linear_model/logistic.py:432: FutureWarning: Default solver will be changed to 'lbfgs' in 0.22. Specify a solver to silence this warning.\n",
            "  FutureWarning)\n",
            "/usr/local/lib/python3.6/dist-packages/sklearn/linear_model/logistic.py:432: FutureWarning: Default solver will be changed to 'lbfgs' in 0.22. Specify a solver to silence this warning.\n",
            "  FutureWarning)\n",
            "/usr/local/lib/python3.6/dist-packages/sklearn/linear_model/logistic.py:432: FutureWarning: Default solver will be changed to 'lbfgs' in 0.22. Specify a solver to silence this warning.\n",
            "  FutureWarning)\n",
            "/usr/local/lib/python3.6/dist-packages/sklearn/linear_model/logistic.py:432: FutureWarning: Default solver will be changed to 'lbfgs' in 0.22. Specify a solver to silence this warning.\n",
            "  FutureWarning)\n",
            "/usr/local/lib/python3.6/dist-packages/sklearn/linear_model/logistic.py:432: FutureWarning: Default solver will be changed to 'lbfgs' in 0.22. Specify a solver to silence this warning.\n",
            "  FutureWarning)\n"
          ],
          "name": "stderr"
        },
        {
          "output_type": "display_data",
          "data": {
            "image/png": "[encoded data removed]",
            "text/plain": [
              "<Figure size 432x288 with 1 Axes>"
            ]
          },
          "metadata": {
            "tags": []
          }
        }
      ]
    },
    {
      "cell_type": "code",
      "metadata": {
        "id": "VjD3f3zR7Go6",
        "colab_type": "code",
        "outputId": "1f7a83cc-804e-4fc1-a35a-68ae6071c5b1",
        "colab": {
          "base_uri": "https://localhost:8080/",
          "height": 119
        }
      },
      "source": [
        "cv_df.groupby('model_name').accuracy.mean()"
      ],
      "execution_count": 0,
      "outputs": [
        {
          "output_type": "execute_result",
          "data": {
            "text/plain": [
              "model_name\n",
              "LinearSVC                 0.915686\n",
              "LogisticRegression        0.911744\n",
              "MultinomialNB             0.915438\n",
              "RandomForestClassifier    0.706247\n",
              "Name: accuracy, dtype: float64"
            ]
          },
          "metadata": {
            "tags": []
          },
          "execution_count": 33
        }
      ]
    },
    {
      "cell_type": "markdown",
      "metadata": {
        "id": "WYXDc5ZP7NKX",
        "colab_type": "text"
      },
      "source": [
        " ### ***Model Evaluation ***"
      ]
    },
    {
      "cell_type": "markdown",
      "metadata": {
        "id": "OCOyPtPG7UTT",
        "colab_type": "text"
      },
      "source": [
        "Continue with our best model (LinearSVC), we are going to look at the confusion matrix, and show the discrepancies between predicted and actual labels."
      ]
    },
    {
      "cell_type": "code",
      "metadata": {
        "id": "D7AksBxZJKGC",
        "colab_type": "code",
        "outputId": "1efef30f-5acf-4f34-9291-b588522767cc",
        "colab": {
          "base_uri": "https://localhost:8080/",
          "height": 607
        }
      },
      "source": [
        "model = LinearSVC()\n",
        "X_train, X_test, y_train, y_test, indices_train, indices_test = train_test_split(features, labels, df.index, test_size=0.33, random_state=0)\n",
        "model.fit(X_train, y_train)\n",
        "y_pred = model.predict(X_test)\n",
        "from sklearn.metrics import confusion_matrix\n",
        "conf_mat = confusion_matrix(y_test, y_pred)\n",
        "fig, ax = plt.subplots(figsize=(10,10))\n",
        "sns.heatmap(conf_mat, annot=True, fmt='d',\n",
        "            xticklabels=category_id_df.Label.values, yticklabels=category_id_df.Label.values)\n",
        "plt.ylabel('Actual')\n",
        "plt.xlabel('Predicted')\n",
        "plt.show()"
      ],
      "execution_count": 0,
      "outputs": [
        {
          "output_type": "display_data",
          "data": {
            "image/png": "[encoded data removed]",
            "text/plain": [
              "<Figure size 720x720 with 2 Axes>"
            ]
          },
          "metadata": {
            "tags": []
          }
        }
      ]
    },
    {
      "cell_type": "markdown",
      "metadata": {
        "id": "sUVkQ-Aa8PFv",
        "colab_type": "text"
      },
      "source": [
        "***Misclassifications, and it might be interesting to see what those are caused by:***"
      ]
    },
    {
      "cell_type": "code",
      "metadata": {
        "id": "wU2v8EDX8N11",
        "colab_type": "code",
        "outputId": "f6c5cb63-252d-4f13-ea92-2ecfa0eac79b",
        "colab": {
          "base_uri": "https://localhost:8080/"
        }
      },
      "source": [
        "from IPython.display import display\n",
        "for predicted in category_id_df.category_id:\n",
        "  for actual in category_id_df.category_id:\n",
        "    if predicted != actual and conf_mat[actual, predicted] >= 10:\n",
        "      print(\"'{}' predicted as '{}' : {} examples.\".format(id_to_category[actual], id_to_category[predicted], conf_mat[actual, predicted]))\n",
        "      display(df.loc[indices_test[(y_test == actual) & (y_pred == predicted)]][['Tweets', 'Label']])\n",
        "      print('')"
      ],
      "execution_count": 0,
      "outputs": [
        {
          "output_type": "error",
          "ename": "AttributeError",
          "evalue": "ignored",
          "traceback": [
            "\u001b[0;31m---------------------------------------------------------------------------\u001b[0m",
            "\u001b[0;31mAttributeError\u001b[0m                            Traceback (most recent call last)",
            "\u001b[0;32m<ipython-input-35-0281007d33fc>\u001b[0m in \u001b[0;36m<module>\u001b[0;34m()\u001b[0m\n\u001b[1;32m      1\u001b[0m \u001b[0;32mfrom\u001b[0m \u001b[0mIPython\u001b[0m\u001b[0;34m.\u001b[0m\u001b[0mdisplay\u001b[0m \u001b[0;32mimport\u001b[0m \u001b[0mdisplay\u001b[0m\u001b[0;34m\u001b[0m\u001b[0;34m\u001b[0m\u001b[0m\n\u001b[0;32m----> 2\u001b[0;31m \u001b[0;32mfor\u001b[0m \u001b[0mpredicted\u001b[0m \u001b[0;32min\u001b[0m \u001b[0mcategory_id_df\u001b[0m\u001b[0;34m.\u001b[0m\u001b[0mcategory_id\u001b[0m\u001b[0;34m:\u001b[0m\u001b[0;34m\u001b[0m\u001b[0;34m\u001b[0m\u001b[0m\n\u001b[0m\u001b[1;32m      3\u001b[0m   \u001b[0;32mfor\u001b[0m \u001b[0mactual\u001b[0m \u001b[0;32min\u001b[0m \u001b[0mcategory_id_df\u001b[0m\u001b[0;34m.\u001b[0m\u001b[0mcategory_id\u001b[0m\u001b[0;34m:\u001b[0m\u001b[0;34m\u001b[0m\u001b[0;34m\u001b[0m\u001b[0m\n\u001b[1;32m      4\u001b[0m     \u001b[0;32mif\u001b[0m \u001b[0mpredicted\u001b[0m \u001b[0;34m!=\u001b[0m \u001b[0mactual\u001b[0m \u001b[0;32mand\u001b[0m \u001b[0mconf_mat\u001b[0m\u001b[0;34m[\u001b[0m\u001b[0mactual\u001b[0m\u001b[0;34m,\u001b[0m \u001b[0mpredicted\u001b[0m\u001b[0;34m]\u001b[0m \u001b[0;34m>=\u001b[0m \u001b[0;36m10\u001b[0m\u001b[0;34m:\u001b[0m\u001b[0;34m\u001b[0m\u001b[0;34m\u001b[0m\u001b[0m\n\u001b[1;32m      5\u001b[0m       \u001b[0mprint\u001b[0m\u001b[0;34m(\u001b[0m\u001b[0;34m\"'{}' predicted as '{}' : {} examples.\"\u001b[0m\u001b[0;34m.\u001b[0m\u001b[0mformat\u001b[0m\u001b[0;34m(\u001b[0m\u001b[0mid_to_category\u001b[0m\u001b[0;34m[\u001b[0m\u001b[0mactual\u001b[0m\u001b[0;34m]\u001b[0m\u001b[0;34m,\u001b[0m \u001b[0mid_to_category\u001b[0m\u001b[0;34m[\u001b[0m\u001b[0mpredicted\u001b[0m\u001b[0;34m]\u001b[0m\u001b[0;34m,\u001b[0m \u001b[0mconf_mat\u001b[0m\u001b[0;34m[\u001b[0m\u001b[0mactual\u001b[0m\u001b[0;34m,\u001b[0m \u001b[0mpredicted\u001b[0m\u001b[0;34m]\u001b[0m\u001b[0;34m)\u001b[0m\u001b[0;34m)\u001b[0m\u001b[0;34m\u001b[0m\u001b[0;34m\u001b[0m\u001b[0m\n",
            "\u001b[0;32m/usr/local/lib/python3.6/dist-packages/pandas/core/generic.py\u001b[0m in \u001b[0;36m__getattr__\u001b[0;34m(self, name)\u001b[0m\n\u001b[1;32m   5065\u001b[0m             \u001b[0;32mif\u001b[0m \u001b[0mself\u001b[0m\u001b[0;34m.\u001b[0m\u001b[0m_info_axis\u001b[0m\u001b[0;34m.\u001b[0m\u001b[0m_can_hold_identifiers_and_holds_name\u001b[0m\u001b[0;34m(\u001b[0m\u001b[0mname\u001b[0m\u001b[0;34m)\u001b[0m\u001b[0;34m:\u001b[0m\u001b[0;34m\u001b[0m\u001b[0;34m\u001b[0m\u001b[0m\n\u001b[1;32m   5066\u001b[0m                 \u001b[0;32mreturn\u001b[0m \u001b[0mself\u001b[0m\u001b[0;34m[\u001b[0m\u001b[0mname\u001b[0m\u001b[0;34m]\u001b[0m\u001b[0;34m\u001b[0m\u001b[0;34m\u001b[0m\u001b[0m\n\u001b[0;32m-> 5067\u001b[0;31m             \u001b[0;32mreturn\u001b[0m \u001b[0mobject\u001b[0m\u001b[0;34m.\u001b[0m\u001b[0m__getattribute__\u001b[0m\u001b[0;34m(\u001b[0m\u001b[0mself\u001b[0m\u001b[0;34m,\u001b[0m \u001b[0mname\u001b[0m\u001b[0;34m)\u001b[0m\u001b[0;34m\u001b[0m\u001b[0;34m\u001b[0m\u001b[0m\n\u001b[0m\u001b[1;32m   5068\u001b[0m \u001b[0;34m\u001b[0m\u001b[0m\n\u001b[1;32m   5069\u001b[0m     \u001b[0;32mdef\u001b[0m \u001b[0m__setattr__\u001b[0m\u001b[0;34m(\u001b[0m\u001b[0mself\u001b[0m\u001b[0;34m,\u001b[0m \u001b[0mname\u001b[0m\u001b[0;34m,\u001b[0m \u001b[0mvalue\u001b[0m\u001b[0;34m)\u001b[0m\u001b[0;34m:\u001b[0m\u001b[0;34m\u001b[0m\u001b[0;34m\u001b[0m\u001b[0m\n",
            "\u001b[0;31mAttributeError\u001b[0m: 'DataFrame' object has no attribute 'category_id'"
          ]
        }
      ]
    },
    {
      "cell_type": "markdown",
      "metadata": {
        "id": "LzmWw-jE9EQM",
        "colab_type": "text"
      },
      "source": [
        "Again, we use the chi-squared test to find the terms that are the most correlated with each of the categories:\n",
        "\n"
      ]
    },
    {
      "cell_type": "code",
      "metadata": {
        "id": "SBu-yEdB9AuF",
        "colab_type": "code",
        "colab": {}
      },
      "source": [
        "model.fit(features, labels)\n",
        "N = 2\n",
        "for label, category_id in sorted(category_to_id.items()):\n",
        "  indices = np.argsort(model.coef_[category_id])\n",
        "  feature_names = np.array(tfidf.get_feature_names())[indices]\n",
        "  unigrams = [v for v in reversed(feature_names) if len(v.split(' ')) == 1][:N]\n",
        "  bigrams = [v for v in reversed(feature_names) if len(v.split(' ')) == 2][:N]\n",
        "  print(\"# '{}':\".format(label))\n",
        "  print(\"  . Top unigrams:\\n       . {}\".format('\\n       . '.join(unigrams)))\n",
        "  print(\"  . Top bigrams:\\n       . {}\".format('\\n       . '.join(bigrams)))"
      ],
      "execution_count": 0,
      "outputs": []
    },
    {
      "cell_type": "code",
      "metadata": {
        "id": "CQt3FalP9YBF",
        "colab_type": "code",
        "colab": {}
      },
      "source": [
        "from sklearn import metrics\n",
        "print(metrics.classification_report(y_test, y_pred, target_names=df['label'].unique()))\n"
      ],
      "execution_count": 0,
      "outputs": []
    },
    {
      "cell_type": "code",
      "metadata": {
        "id": "kv_ZgN_lwgks",
        "colab_type": "code",
        "colab": {}
      },
      "source": [
        "aprint(metrics.classification_report(y_test, y_pred, target_names=df['label'].unique()))"
      ],
      "execution_count": 0,
      "outputs": []
    },
    {
      "cell_type": "code",
      "metadata": {
        "id": "f76C-W9V3ZwV",
        "colab_type": "code",
        "colab": {}
      },
      "source": [
        ""
      ],
      "execution_count": 0,
      "outputs": []
    }
  ]
}