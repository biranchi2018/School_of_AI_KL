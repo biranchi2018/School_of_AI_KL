{
  "nbformat": 4,
  "nbformat_minor": 0,
  "metadata": {
    "colab": {
      "name": "Convolution-Tutorial.ipynb",
      "provenance": [],
      "collapsed_sections": []
    },
    "kernelspec": {
      "name": "python3",
      "display_name": "Python 3"
    },
    "accelerator": "GPU"
  },
  "cells": [
    {
      "cell_type": "markdown",
      "metadata": {
        "id": "7zHH7t1_KD__",
        "colab_type": "text"
      },
      "source": [
        "## 1-D Convolution"
      ]
    },
    {
      "cell_type": "code",
      "metadata": {
        "id": "hMVVy1UPKHkz",
        "colab_type": "code",
        "colab": {}
      },
      "source": [
        "import numpy as np"
      ],
      "execution_count": 0,
      "outputs": []
    },
    {
      "cell_type": "code",
      "metadata": {
        "id": "GCUBXyKA5LIl",
        "colab_type": "code",
        "colab": {}
      },
      "source": [
        "x = [2,5,7,10,1]\n",
        "kernel = [5,5]"
      ],
      "execution_count": 0,
      "outputs": []
    },
    {
      "cell_type": "code",
      "metadata": {
        "id": "JMCCVJsx81gc",
        "colab_type": "code",
        "outputId": "e466d0e0-7341-469f-9ee8-e0f4bcd07096",
        "colab": {
          "base_uri": "https://localhost:8080/",
          "height": 34
        }
      },
      "source": [
        "np.convolve(x, kernel, mode='valid')"
      ],
      "execution_count": 0,
      "outputs": [
        {
          "output_type": "execute_result",
          "data": {
            "text/plain": [
              "array([35, 60, 85, 55])"
            ]
          },
          "metadata": {
            "tags": []
          },
          "execution_count": 3
        }
      ]
    },
    {
      "cell_type": "code",
      "metadata": {
        "id": "YzCzfL8IGaZL",
        "colab_type": "code",
        "outputId": "c2989454-2c94-4b22-de06-aed3118cdc62",
        "colab": {
          "base_uri": "https://localhost:8080/",
          "height": 34
        }
      },
      "source": [
        "np.convolve(x, kernel, mode='same')"
      ],
      "execution_count": 0,
      "outputs": [
        {
          "output_type": "execute_result",
          "data": {
            "text/plain": [
              "array([10, 35, 60, 85, 55])"
            ]
          },
          "metadata": {
            "tags": []
          },
          "execution_count": 5
        }
      ]
    },
    {
      "cell_type": "code",
      "metadata": {
        "id": "SCW_z36nGjxU",
        "colab_type": "code",
        "colab": {}
      },
      "source": [
        ""
      ],
      "execution_count": 0,
      "outputs": []
    },
    {
      "cell_type": "markdown",
      "metadata": {
        "id": "_Mibx-T9J9OB",
        "colab_type": "text"
      },
      "source": [
        "## 2-D Convolution"
      ]
    },
    {
      "cell_type": "code",
      "metadata": {
        "id": "3QvFgsaOKAM-",
        "colab_type": "code",
        "colab": {}
      },
      "source": [
        "kernel_size = 5\n",
        "sigma = 1"
      ],
      "execution_count": 0,
      "outputs": []
    },
    {
      "cell_type": "code",
      "metadata": {
        "id": "s_QCqV9IKvVQ",
        "colab_type": "code",
        "outputId": "abafea46-df92-49de-8565-c15c475fd068",
        "colab": {
          "base_uri": "https://localhost:8080/",
          "height": 34
        }
      },
      "source": [
        "gaussian_size = kernel_size//2\n",
        "\n",
        "gaussian_size"
      ],
      "execution_count": 0,
      "outputs": [
        {
          "output_type": "execute_result",
          "data": {
            "text/plain": [
              "2"
            ]
          },
          "metadata": {
            "tags": []
          },
          "execution_count": 32
        }
      ]
    },
    {
      "cell_type": "code",
      "metadata": {
        "id": "7Vgt4ckKKzYX",
        "colab_type": "code",
        "colab": {}
      },
      "source": [
        "rows = []\n",
        "for i in range(-gaussian_size, gaussian_size+1):\n",
        "  columns= []\n",
        "  for k in range(-gaussian_size, gaussian_size+1):\n",
        "    columns.append((i**2 + k**2) / 2 * sigma ** 2)\n",
        "  rows.append(columns)\n"
      ],
      "execution_count": 0,
      "outputs": []
    },
    {
      "cell_type": "code",
      "metadata": {
        "id": "9hwAkt4VLNCN",
        "colab_type": "code",
        "outputId": "010b599e-0b07-4ad6-9062-ec3a29094a50",
        "colab": {
          "base_uri": "https://localhost:8080/",
          "height": 105
        }
      },
      "source": [
        "gaussian = np.exp(-np.array(rows))\n",
        "gaussian"
      ],
      "execution_count": 0,
      "outputs": [
        {
          "output_type": "execute_result",
          "data": {
            "text/plain": [
              "array([[0.01831564, 0.082085  , 0.13533528, 0.082085  , 0.01831564],\n",
              "       [0.082085  , 0.36787944, 0.60653066, 0.36787944, 0.082085  ],\n",
              "       [0.13533528, 0.60653066, 1.        , 0.60653066, 0.13533528],\n",
              "       [0.082085  , 0.36787944, 0.60653066, 0.36787944, 0.082085  ],\n",
              "       [0.01831564, 0.082085  , 0.13533528, 0.082085  , 0.01831564]])"
            ]
          },
          "metadata": {
            "tags": []
          },
          "execution_count": 34
        }
      ]
    },
    {
      "cell_type": "code",
      "metadata": {
        "id": "uxI3lS6qLQJe",
        "colab_type": "code",
        "outputId": "a2f1afca-fb9f-4ce1-ad0a-57ab569369b0",
        "colab": {
          "base_uri": "https://localhost:8080/",
          "height": 105
        }
      },
      "source": [
        "gaussian = gaussian / (np.pi * sigma ** 2)\n",
        "gaussian"
      ],
      "execution_count": 0,
      "outputs": [
        {
          "output_type": "execute_result",
          "data": {
            "text/plain": [
              "array([[0.00583005, 0.02612847, 0.04307856, 0.02612847, 0.00583005],\n",
              "       [0.02612847, 0.11709966, 0.19306471, 0.11709966, 0.02612847],\n",
              "       [0.04307856, 0.19306471, 0.31830989, 0.19306471, 0.04307856],\n",
              "       [0.02612847, 0.11709966, 0.19306471, 0.11709966, 0.02612847],\n",
              "       [0.00583005, 0.02612847, 0.04307856, 0.02612847, 0.00583005]])"
            ]
          },
          "metadata": {
            "tags": []
          },
          "execution_count": 35
        }
      ]
    },
    {
      "cell_type": "code",
      "metadata": {
        "id": "Oh69tZTGM5Do",
        "colab_type": "code",
        "colab": {}
      },
      "source": [
        ""
      ],
      "execution_count": 0,
      "outputs": []
    },
    {
      "cell_type": "code",
      "metadata": {
        "id": "ckfQbohXM5Ln",
        "colab_type": "code",
        "outputId": "f842b22e-4b56-4dab-f382-bf0c26341760",
        "colab": {
          "base_uri": "https://localhost:8080/",
          "height": 232
        }
      },
      "source": [
        "!wget https://upload.wikimedia.org/wikipedia/commons/thumb/5/53/OpenCV_Logo_with_text.png/487px-OpenCV_Logo_with_text.png"
      ],
      "execution_count": 0,
      "outputs": [
        {
          "output_type": "stream",
          "text": [
            "--2019-11-30 02:47:59--  https://upload.wikimedia.org/wikipedia/commons/thumb/5/53/OpenCV_Logo_with_text.png/487px-OpenCV_Logo_with_text.png\n",
            "Resolving upload.wikimedia.org (upload.wikimedia.org)... 91.198.174.208, 2620:0:862:ed1a::2:b\n",
            "Connecting to upload.wikimedia.org (upload.wikimedia.org)|91.198.174.208|:443... connected.\n",
            "HTTP request sent, awaiting response... 200 OK\n",
            "Length: 30128 (29K) [image/png]\n",
            "Saving to: ‘487px-OpenCV_Logo_with_text.png.1’\n",
            "\n",
            "\r          487px-Ope   0%[                    ]       0  --.-KB/s               \r487px-OpenCV_Logo_w 100%[===================>]  29.42K  --.-KB/s    in 0.005s  \n",
            "\n",
            "2019-11-30 02:47:59 (6.21 MB/s) - ‘487px-OpenCV_Logo_with_text.png.1’ saved [30128/30128]\n",
            "\n"
          ],
          "name": "stdout"
        }
      ]
    },
    {
      "cell_type": "code",
      "metadata": {
        "id": "S-KaCkmbMrlj",
        "colab_type": "code",
        "outputId": "7d44e90f-6622-4b88-efa6-3d9757b9d3be",
        "colab": {
          "base_uri": "https://localhost:8080/",
          "height": 286
        }
      },
      "source": [
        "from skimage import io\n",
        "\n",
        "img = io.imread('487px-OpenCV_Logo_with_text.png')\n",
        "img.shape\n",
        "\n",
        "import matplotlib.pyplot as plt\n",
        "\n",
        "plt.imshow(img)"
      ],
      "execution_count": 0,
      "outputs": [
        {
          "output_type": "execute_result",
          "data": {
            "text/plain": [
              "<matplotlib.image.AxesImage at 0x7febb0e820b8>"
            ]
          },
          "metadata": {
            "tags": []
          },
          "execution_count": 37
        },
        {
          "output_type": "display_data",
          "data": {
            "image/png": "[encoded data removed]",
            "text/plain": [
              "<Figure size 432x288 with 1 Axes>"
            ]
          },
          "metadata": {
            "tags": []
          }
        }
      ]
    },
    {
      "cell_type": "code",
      "metadata": {
        "id": "_KvqPAVXNEho",
        "colab_type": "code",
        "outputId": "fd117630-4e40-4b32-a5af-535ec9b2914e",
        "colab": {
          "base_uri": "https://localhost:8080/",
          "height": 34
        }
      },
      "source": [
        "gaussian.shape"
      ],
      "execution_count": 0,
      "outputs": [
        {
          "output_type": "execute_result",
          "data": {
            "text/plain": [
              "(5, 5)"
            ]
          },
          "metadata": {
            "tags": []
          },
          "execution_count": 38
        }
      ]
    },
    {
      "cell_type": "code",
      "metadata": {
        "id": "XhQSpsMCNQm6",
        "colab_type": "code",
        "outputId": "ce3267b2-82e6-4542-d2c8-d59816881970",
        "colab": {
          "base_uri": "https://localhost:8080/",
          "height": 34
        }
      },
      "source": [
        "stride = 1\n",
        "size_padding_left = int(np.floor(kernel_size - stride) /2)\n",
        "size_padding_right = int(np.floor(kernel_size - stride) /2)\n",
        "\n",
        "size_padding_left, size_padding_right"
      ],
      "execution_count": 0,
      "outputs": [
        {
          "output_type": "execute_result",
          "data": {
            "text/plain": [
              "(2, 2)"
            ]
          },
          "metadata": {
            "tags": []
          },
          "execution_count": 48
        }
      ]
    },
    {
      "cell_type": "code",
      "metadata": {
        "id": "hG-y6JgtO2NH",
        "colab_type": "code",
        "outputId": "0fa40584-895a-4a1d-8011-a41be56b30d1",
        "colab": {
          "base_uri": "https://localhost:8080/",
          "height": 34
        }
      },
      "source": [
        "img.shape"
      ],
      "execution_count": 0,
      "outputs": [
        {
          "output_type": "execute_result",
          "data": {
            "text/plain": [
              "(600, 487, 4)"
            ]
          },
          "metadata": {
            "tags": []
          },
          "execution_count": 51
        }
      ]
    },
    {
      "cell_type": "code",
      "metadata": {
        "id": "fERTdciVNUgi",
        "colab_type": "code",
        "outputId": "f21e6003-084b-48dc-e296-383d2fb7f286",
        "colab": {
          "base_uri": "https://localhost:8080/",
          "height": 34
        }
      },
      "source": [
        "img_padded = np.pad(img, ((size_padding_left, size_padding_right), (size_padding_left, size_padding_right),\n",
        "            (0,0)), mode='constant')\n",
        "img.shape, img_padded.shape"
      ],
      "execution_count": 0,
      "outputs": [
        {
          "output_type": "execute_result",
          "data": {
            "text/plain": [
              "((600, 487, 4), (604, 491, 4))"
            ]
          },
          "metadata": {
            "tags": []
          },
          "execution_count": 50
        }
      ]
    },
    {
      "cell_type": "code",
      "metadata": {
        "id": "eyQE3KHmNl7w",
        "colab_type": "code",
        "outputId": "729c6726-07e5-4b81-a8fd-8d911e8d69a6",
        "colab": {
          "base_uri": "https://localhost:8080/",
          "height": 141
        }
      },
      "source": [
        "img_padded[0]"
      ],
      "execution_count": 0,
      "outputs": [
        {
          "output_type": "execute_result",
          "data": {
            "text/plain": [
              "array([[0, 0, 0, 0],\n",
              "       [0, 0, 0, 0],\n",
              "       [0, 0, 0, 0],\n",
              "       ...,\n",
              "       [0, 0, 0, 0],\n",
              "       [0, 0, 0, 0],\n",
              "       [0, 0, 0, 0]], dtype=uint8)"
            ]
          },
          "metadata": {
            "tags": []
          },
          "execution_count": 53
        }
      ]
    },
    {
      "cell_type": "code",
      "metadata": {
        "id": "a_y1xMZcO6lE",
        "colab_type": "code",
        "colab": {}
      },
      "source": [
        "output = np.zeros(img.shape)\n",
        "# output"
      ],
      "execution_count": 0,
      "outputs": []
    },
    {
      "cell_type": "code",
      "metadata": {
        "id": "eOeyXhT7PEOK",
        "colab_type": "code",
        "colab": {}
      },
      "source": [
        "for z in range(img_padded.shape[2]):\n",
        "  for y in range(int((img_padded.shape[0] - kernel_size) / stride + 1)):\n",
        "    for x in range(int((img_padded.shape[1] - kernel_size) / stride + 1)):\n",
        "      cut = img_padded[y * stride: y * stride + kernel_size, \n",
        "                 x * stride: x * stride + kernel_size, z]\n",
        "      cut = (cut * gaussian).sum()\n",
        "      output[y, x, z] = cut "
      ],
      "execution_count": 0,
      "outputs": []
    },
    {
      "cell_type": "code",
      "metadata": {
        "id": "ctnNmZEzQ0YV",
        "colab_type": "code",
        "outputId": "3b828cb0-dfdd-4ec4-eb9c-0742af40f376",
        "colab": {
          "base_uri": "https://localhost:8080/",
          "height": 34
        }
      },
      "source": [
        "output.shape"
      ],
      "execution_count": 0,
      "outputs": [
        {
          "output_type": "execute_result",
          "data": {
            "text/plain": [
              "(600, 487, 4)"
            ]
          },
          "metadata": {
            "tags": []
          },
          "execution_count": 58
        }
      ]
    },
    {
      "cell_type": "code",
      "metadata": {
        "id": "c92Gr4SzRaJk",
        "colab_type": "code",
        "outputId": "cc8d89f1-d1db-4150-efaf-87bcd4a9ae59",
        "colab": {
          "base_uri": "https://localhost:8080/",
          "height": 887
        }
      },
      "source": [
        "output"
      ],
      "execution_count": 0,
      "outputs": [
        {
          "output_type": "execute_result",
          "data": {
            "text/plain": [
              "array([[[0., 0., 0., 0.],\n",
              "        [0., 0., 0., 0.],\n",
              "        [0., 0., 0., 0.],\n",
              "        ...,\n",
              "        [0., 0., 0., 0.],\n",
              "        [0., 0., 0., 0.],\n",
              "        [0., 0., 0., 0.]],\n",
              "\n",
              "       [[0., 0., 0., 0.],\n",
              "        [0., 0., 0., 0.],\n",
              "        [0., 0., 0., 0.],\n",
              "        ...,\n",
              "        [0., 0., 0., 0.],\n",
              "        [0., 0., 0., 0.],\n",
              "        [0., 0., 0., 0.]],\n",
              "\n",
              "       [[0., 0., 0., 0.],\n",
              "        [0., 0., 0., 0.],\n",
              "        [0., 0., 0., 0.],\n",
              "        ...,\n",
              "        [0., 0., 0., 0.],\n",
              "        [0., 0., 0., 0.],\n",
              "        [0., 0., 0., 0.]],\n",
              "\n",
              "       ...,\n",
              "\n",
              "       [[0., 0., 0., 0.],\n",
              "        [0., 0., 0., 0.],\n",
              "        [0., 0., 0., 0.],\n",
              "        ...,\n",
              "        [0., 0., 0., 0.],\n",
              "        [0., 0., 0., 0.],\n",
              "        [0., 0., 0., 0.]],\n",
              "\n",
              "       [[0., 0., 0., 0.],\n",
              "        [0., 0., 0., 0.],\n",
              "        [0., 0., 0., 0.],\n",
              "        ...,\n",
              "        [0., 0., 0., 0.],\n",
              "        [0., 0., 0., 0.],\n",
              "        [0., 0., 0., 0.]],\n",
              "\n",
              "       [[0., 0., 0., 0.],\n",
              "        [0., 0., 0., 0.],\n",
              "        [0., 0., 0., 0.],\n",
              "        ...,\n",
              "        [0., 0., 0., 0.],\n",
              "        [0., 0., 0., 0.],\n",
              "        [0., 0., 0., 0.]]])"
            ]
          },
          "metadata": {
            "tags": []
          },
          "execution_count": 59
        }
      ]
    },
    {
      "cell_type": "code",
      "metadata": {
        "id": "bKMsiRB6RxGU",
        "colab_type": "code",
        "outputId": "d619284f-9f85-4163-ef32-f3fdd043e70c",
        "colab": {
          "base_uri": "https://localhost:8080/",
          "height": 34
        }
      },
      "source": [
        "output.max()"
      ],
      "execution_count": 0,
      "outputs": [
        {
          "output_type": "execute_result",
          "data": {
            "text/plain": [
              "500.7255281377309"
            ]
          },
          "metadata": {
            "tags": []
          },
          "execution_count": 60
        }
      ]
    },
    {
      "cell_type": "code",
      "metadata": {
        "id": "8WF_6yuoRdiM",
        "colab_type": "code",
        "outputId": "5baec32e-f186-4fc1-b8f1-9c6b6286b35f",
        "colab": {
          "base_uri": "https://localhost:8080/",
          "height": 341
        }
      },
      "source": [
        "plt.figure(figsize = (10,5))\n",
        "plt.subplot(1, 2, 1)\n",
        "plt.imshow(img)\n",
        "plt.subplot(1, 2, 2)\n",
        "plt.imshow(output.astype('uint8'))\n"
      ],
      "execution_count": 0,
      "outputs": [
        {
          "output_type": "execute_result",
          "data": {
            "text/plain": [
              "<matplotlib.image.AxesImage at 0x7febb0b62fd0>"
            ]
          },
          "metadata": {
            "tags": []
          },
          "execution_count": 61
        },
        {
          "output_type": "display_data",
          "data": {
            "image/png": "[encoded data removed]",
            "text/plain": [
              "<Figure size 720x360 with 2 Axes>"
            ]
          },
          "metadata": {
            "tags": []
          }
        }
      ]
    },
    {
      "cell_type": "code",
      "metadata": {
        "id": "P5S8-1DsSHnC",
        "colab_type": "code",
        "colab": {}
      },
      "source": [
        ""
      ],
      "execution_count": 0,
      "outputs": []
    }
  ]
}